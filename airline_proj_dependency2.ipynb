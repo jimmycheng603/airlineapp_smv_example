{
 "cells": [
  {
   "cell_type": "markdown",
   "metadata": {},
   "source": [
    "# Dependencies across Modules and Stages - Revisit"
   ]
  },
  {
   "cell_type": "markdown",
   "metadata": {},
   "source": [
    "With the development and enrichment of the project, we will again view the dependency graph of the project. When the level of project complexity increases, the full-scope transparency offered by Smv plays a more significant role in understanding and managing the project from a higher level."
   ]
  },
  {
   "cell_type": "markdown",
   "metadata": {},
   "source": [
    "## List All DataSets\n",
    "\n",
    "First, list all modules and stages under the current project. The type of each dataset is clearly marked as the leading label:\n",
    "- (O): SmvOutput\n",
    "- (F): SmvFile\n",
    "- (L): SmvModuleLink"
   ]
  },
  {
   "cell_type": "code",
   "execution_count": 1,
   "metadata": {},
   "outputs": [
    {
     "name": "stdout",
     "output_type": "stream",
     "text": [
      "\n",
      "com.mycompany.airlineapp.etl:\n",
      "  (O) etl.DimCustomer\n",
      "  (O) etl.DimFlightLeg\n",
      "  (O) etl.DimGeo\n",
      "  (O) etl.DimMember\n",
      "  (O) etl.FactBooking\n",
      "  (O) etl.FactCheckIn\n",
      "  (O) etl.FactTicket\n",
      "  (F) etl.input.BookingTable\n",
      "  (F) etl.input.CheckInTable\n",
      "  (F) etl.input.CustomerTable\n",
      "  (F) etl.input.FlightLegTable\n",
      "  (F) etl.input.GeoRef\n",
      "  (F) etl.input.MemberTable\n",
      "  (F) etl.input.TicketTable\n",
      "\n",
      "com.mycompany.airlineapp.datamodel:\n",
      "  (O) datamodel.CustomerMaster\n",
      "  (O) datamodel.FlightMaster\n",
      "  (O) datamodel.SegmentMaster\n",
      "  (L) datamodel.input.DimCustomer\n",
      "  (L) datamodel.input.DimFlightLeg\n",
      "  (L) datamodel.input.DimGeo\n",
      "  (L) datamodel.input.DimMember\n",
      "  (L) datamodel.input.FactBooking\n",
      "  (L) datamodel.input.FactCheckIn\n",
      "  (L) datamodel.input.FactTicket\n",
      "\n",
      "com.mycompany.airlineapp.feature:\n",
      "  (O) feature.CustomerAllFeature\n",
      "  (O) feature.CustomerProfileFeature\n",
      "  (O) feature.CustomerTravelFeature\n",
      "  (L) feature.input.CustomerMaster\n",
      "  (L) feature.input.FlightMaster\n",
      "  (L) feature.input.SegmentMaster\n",
      "\n",
      "com.mycompany.airlineapp.app:\n",
      "  (M) app.KMeansCluster\n",
      "  (L) app.input.CustomerAllFeature\n"
     ]
    }
   ],
   "source": [
    "ls()"
   ]
  },
  {
   "cell_type": "markdown",
   "metadata": {},
   "source": [
    "## Stage-Level Dependency\n",
    "\n",
    "Now we can use `graph()` to view the high-level dependency graph at stage level"
   ]
  },
  {
   "cell_type": "code",
   "execution_count": 2,
   "metadata": {
    "scrolled": true
   },
   "outputs": [
    {
     "name": "stdout",
     "output_type": "stream",
     "text": [
      "             ┌───┐             \n",
      "             │etl│             \n",
      "             └──┬┘             \n",
      "                │              \n",
      "                v              \n",
      " ┌────────────────────────────┐\n",
      " │datamodel.input.DimFlightLeg│\n",
      " │ datamodel.input.DimMember  │\n",
      " │   datamodel.input.DimGeo   │\n",
      " │datamodel.input.FactBooking │\n",
      " │datamodel.input.DimCustomer │\n",
      " │datamodel.input.FactCheckIn │\n",
      " │ datamodel.input.FactTicket │\n",
      " └─────────────┬──────────────┘\n",
      "               │               \n",
      "               v               \n",
      "          ┌─────────┐          \n",
      "          │datamodel│          \n",
      "          └─────┬───┘          \n",
      "                │              \n",
      "                v              \n",
      " ┌────────────────────────────┐\n",
      " │feature.input.SegmentMaster │\n",
      " │ feature.input.FlightMaster │\n",
      " │feature.input.CustomerMaster│\n",
      " └─────────────┬──────────────┘\n",
      "               │               \n",
      "               v               \n",
      "           ┌───────┐           \n",
      "           │feature│           \n",
      "           └────┬──┘           \n",
      "                │              \n",
      "                v              \n",
      " ┌────────────────────────────┐\n",
      " │app.input.CustomerAllFeature│\n",
      " └─────────────┬──────────────┘\n",
      "               │               \n",
      "               v               \n",
      "             ┌───┐             \n",
      "             │app│             \n",
      "             └───┘             \n"
     ]
    }
   ],
   "source": [
    "graph()"
   ]
  },
  {
   "cell_type": "code",
   "execution_count": null,
   "metadata": {
    "collapsed": true
   },
   "outputs": [],
   "source": []
  }
 ],
 "metadata": {
  "kernelspec": {
   "display_name": "Python 2",
   "language": "python",
   "name": "python2"
  },
  "language_info": {
   "codemirror_mode": {
    "name": "ipython",
    "version": 2
   },
   "file_extension": ".py",
   "mimetype": "text/x-python",
   "name": "python",
   "nbconvert_exporter": "python",
   "pygments_lexer": "ipython2",
   "version": "2.7.13"
  }
 },
 "nbformat": 4,
 "nbformat_minor": 1
}
