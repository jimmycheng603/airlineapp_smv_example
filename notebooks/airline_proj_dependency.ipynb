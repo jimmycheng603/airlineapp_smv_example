{
 "cells": [
  {
   "cell_type": "markdown",
   "metadata": {},
   "source": [
    "# Dependencies across Modules and Stages"
   ]
  },
  {
   "cell_type": "markdown",
   "metadata": {},
   "source": [
    "## List All DataSets\n",
    "\n",
    "Firstly, we can list all modules and stages under the current project. The type of each dataset is clearly marked as the leading label:\n",
    "- (O): SmvOutput\n",
    "- (F): SmvFile\n",
    "- (L): SmvModuleLink"
   ]
  },
  {
   "cell_type": "code",
   "execution_count": 1,
   "metadata": {
    "collapsed": false
   },
   "outputs": [
    {
     "name": "stdout",
     "output_type": "stream",
     "text": [
      "\n",
      "com.mycompany.airlineapp.etl:\n",
      "  (O) etl.DimCustomer\n",
      "  (O) etl.DimMember\n",
      "  (F) etl.input.CustomerTable\n",
      "  (F) etl.input.MemberTable\n",
      "\n",
      "com.mycompany.airlineapp.datamodel:\n",
      "  (O) datamodel.CustomerMaster\n",
      "  (L) datamodel.input.DimCustomer\n",
      "  (L) datamodel.input.DimMember\n",
      "\n",
      "com.mycompany.airlineapp.feature:\n",
      "  (O) feature.CustomerProfileFeature\n",
      "  (L) feature.input.CustomerMaster\n"
     ]
    }
   ],
   "source": [
    "ls()"
   ]
  },
  {
   "cell_type": "markdown",
   "metadata": {},
   "source": [
    "## Stage-Level Dependency\n",
    "\n",
    "Now we can use `graph()` to view the high-level dependency graph at stage level"
   ]
  },
  {
   "cell_type": "code",
   "execution_count": 2,
   "metadata": {
    "collapsed": false,
    "scrolled": true
   },
   "outputs": [
    {
     "name": "stdout",
     "output_type": "stream",
     "text": [
      "             ┌───┐             \n",
      "             │etl│             \n",
      "             └─┬─┘             \n",
      "               │               \n",
      "               v               \n",
      " ┌───────────────────────────┐ \n",
      " │datamodel.input.DimCustomer│ \n",
      " │ datamodel.input.DimMember │ \n",
      " └─────────────┬─────────────┘ \n",
      "               │               \n",
      "               v               \n",
      "          ┌─────────┐          \n",
      "          │datamodel│          \n",
      "          └─────┬───┘          \n",
      "                │              \n",
      "                v              \n",
      " ┌────────────────────────────┐\n",
      " │feature.input.CustomerMaster│\n",
      " └─────────────┬──────────────┘\n",
      "               │               \n",
      "               v               \n",
      "           ┌───────┐           \n",
      "           │feature│           \n",
      "           └───────┘           \n"
     ]
    }
   ],
   "source": [
    "graph()"
   ]
  },
  {
   "cell_type": "code",
   "execution_count": null,
   "metadata": {
    "collapsed": true
   },
   "outputs": [],
   "source": []
  }
 ],
 "metadata": {
  "kernelspec": {
   "display_name": "Python 2",
   "language": "python",
   "name": "python2"
  },
  "language_info": {
   "codemirror_mode": {
    "name": "ipython",
    "version": 2
   },
   "file_extension": ".py",
   "mimetype": "text/x-python",
   "name": "python",
   "nbconvert_exporter": "python",
   "pygments_lexer": "ipython2",
   "version": "2.7.10"
  }
 },
 "nbformat": 4,
 "nbformat_minor": 1
}
