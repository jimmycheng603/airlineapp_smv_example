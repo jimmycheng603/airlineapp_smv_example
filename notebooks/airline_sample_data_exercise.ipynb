{
 "cells": [
  {
   "cell_type": "markdown",
   "metadata": {},
   "source": [
    "# Airline Sample Data Exercise Answer"
   ]
  },
  {
   "cell_type": "markdown",
   "metadata": {},
   "source": [
    "**Q1:** How many unique customers are there? How many do not have specific age information?"
   ]
  },
  {
   "cell_type": "code",
   "execution_count": 1,
   "metadata": {
    "collapsed": true
   },
   "outputs": [],
   "source": [
    "import smv"
   ]
  },
  {
   "cell_type": "code",
   "execution_count": 2,
   "metadata": {
    "collapsed": false
   },
   "outputs": [],
   "source": [
    "# Input data\n",
    "customer = openCsv(\"data/input/customer.csv\")\n",
    "member = openCsv(\"data/input/member_lvl.csv\")\n",
    "bkg = openCsv(\"data/input/booking.csv\")\n",
    "tkt = openCsv(\"data/input/ticket.csv\")\n",
    "ckin = openCsv(\"data/input/checkin.csv\")\n",
    "geo = openCsv(\"data/input/ref_geo.csv\")"
   ]
  },
  {
   "cell_type": "code",
   "execution_count": 3,
   "metadata": {
    "collapsed": false
   },
   "outputs": [
    {
     "name": "stdout",
     "output_type": "stream",
     "text": [
      "CUST_ID              Non-Null Count         22\n",
      "CUST_ID              Min Length             12\n",
      "CUST_ID              Max Length             12\n",
      "CUST_ID              Approx Distinct Count  22\n",
      "BIRTH_MM             Non-Null Count         19\n",
      "BIRTH_MM             Average                6.421052631578948\n",
      "BIRTH_MM             Standard Deviation     3.80519804527211\n",
      "BIRTH_MM             Min                    2.0\n",
      "BIRTH_MM             Max                    12.0\n",
      "BIRTH_DD             Non-Null Count         19\n",
      "BIRTH_DD             Average                16.263157894736842\n",
      "BIRTH_DD             Standard Deviation     9.218592958817027\n",
      "BIRTH_DD             Min                    1.0\n",
      "BIRTH_DD             Max                    30.0\n",
      "BIRTH_YYYY           Non-Null Count         19\n",
      "BIRTH_YYYY           Average                1973.3157894736842\n",
      "BIRTH_YYYY           Standard Deviation     11.39226166004778\n",
      "BIRTH_YYYY           Min                    1953.0\n",
      "BIRTH_YYYY           Max                    1991.0\n",
      "GENDER_CD            Non-Null Count         19\n",
      "GENDER_CD            Min Length             1\n",
      "GENDER_CD            Max Length             1\n",
      "GENDER_CD            Approx Distinct Count  2\n",
      "DECEASED_IND         Non-Null Count         22\n",
      "DECEASED_IND         Min Length             1\n",
      "DECEASED_IND         Max Length             1\n",
      "DECEASED_IND         Approx Distinct Count  1\n"
     ]
    }
   ],
   "source": [
    "customer.smvEdd()"
   ]
  },
  {
   "cell_type": "markdown",
   "metadata": {
    "collapsed": true
   },
   "source": [
    "**A1:** 22 unique customers, 3 without age information."
   ]
  },
  {
   "cell_type": "markdown",
   "metadata": {},
   "source": [
    "**Q2:** Which customer joined FFP the earliest among all sampled customers?"
   ]
  },
  {
   "cell_type": "code",
   "execution_count": 4,
   "metadata": {
    "collapsed": false
   },
   "outputs": [
    {
     "name": "stdout",
     "output_type": "stream",
     "text": [
      "+------------+--------+----------+\n",
      "|     CUST_ID|CURR_LVL| ENROLL_DT|\n",
      "+------------+--------+----------+\n",
      "|000365709222|       5|1982-09-15|\n",
      "+------------+--------+----------+\n",
      "only showing top 1 row\n",
      "\n"
     ]
    }
   ],
   "source": [
    "member.filter(col(\"ENROLL_DT\").isNotNull()).orderBy(\"ENROLL_DT\").show(1)"
   ]
  },
  {
   "cell_type": "markdown",
   "metadata": {},
   "source": [
    "**A2:** The customer with ID 000365709222 joined in 1982."
   ]
  },
  {
   "cell_type": "markdown",
   "metadata": {},
   "source": [
    "**Q3:** How many records are there in ticket table?"
   ]
  },
  {
   "cell_type": "code",
   "execution_count": 5,
   "metadata": {
    "collapsed": false
   },
   "outputs": [
    {
     "data": {
      "text/plain": [
       "1941"
      ]
     },
     "execution_count": 5,
     "metadata": {},
     "output_type": "execute_result"
    }
   ],
   "source": [
    "tkt.count()"
   ]
  },
  {
   "cell_type": "markdown",
   "metadata": {},
   "source": [
    "**A3:** 1941 records\n",
    "\n",
    "One caveat is that this kind of check may take a long time on a large full data."
   ]
  },
  {
   "cell_type": "markdown",
   "metadata": {},
   "source": [
    "**Q4:** What is the missing rate of \"CABIN\" in booking table?"
   ]
  },
  {
   "cell_type": "code",
   "execution_count": 6,
   "metadata": {
    "collapsed": false
   },
   "outputs": [
    {
     "data": {
      "text/plain": [
       "1309"
      ]
     },
     "execution_count": 6,
     "metadata": {},
     "output_type": "execute_result"
    }
   ],
   "source": [
    "bkg_sample = bkg.sample(False, 0.2, 99).cache()\n",
    "bkg_sample.count()"
   ]
  },
  {
   "cell_type": "code",
   "execution_count": 7,
   "metadata": {
    "collapsed": false
   },
   "outputs": [
    {
     "name": "stdout",
     "output_type": "stream",
     "text": [
      "CABIN                Non-Null Count         1286\n",
      "CABIN                Min Length             1\n",
      "CABIN                Max Length             1\n",
      "CABIN                Approx Distinct Count  4\n"
     ]
    }
   ],
   "source": [
    "bkg_sample.smvEdd(\"CABIN\")"
   ]
  },
  {
   "cell_type": "code",
   "execution_count": 8,
   "metadata": {
    "collapsed": false
   },
   "outputs": [
    {
     "data": {
      "text/plain": [
       "1.757066462948816"
      ]
     },
     "execution_count": 8,
     "metadata": {},
     "output_type": "execute_result"
    }
   ],
   "source": [
    "float(1309-1286)/float(1309)*100"
   ]
  },
  {
   "cell_type": "markdown",
   "metadata": {},
   "source": [
    "**A4:** 1.76%"
   ]
  },
  {
   "cell_type": "markdown",
   "metadata": {},
   "source": [
    "**Q5:** Validate whether the set of [\"CUST_ID\", \"PNR\", \"PNR_CREATION_DT\", \"FLT_LEG_DPRT_DT\", \"SCH_LEG_ORIG_CD\", \"SCH_LEG_DEST_CD\"] can be primary keys of ticket table."
   ]
  },
  {
   "cell_type": "code",
   "execution_count": 9,
   "metadata": {
    "collapsed": false
   },
   "outputs": [
    {
     "data": {
      "text/plain": [
       "583"
      ]
     },
     "execution_count": 9,
     "metadata": {},
     "output_type": "execute_result"
    }
   ],
   "source": [
    "tkt_sample = tkt.sample(False, 0.3, 99).cache()\n",
    "tkt_sample.count()"
   ]
  },
  {
   "cell_type": "code",
   "execution_count": 10,
   "metadata": {
    "collapsed": false
   },
   "outputs": [
    {
     "data": {
      "text/plain": [
       "583"
      ]
     },
     "execution_count": 10,
     "metadata": {},
     "output_type": "execute_result"
    }
   ],
   "source": [
    "tkt_sample.smvDedupByKey(\"CUST_ID\", \"PNR\", \"PNR_CREATION_DT\", \"FLT_LEG_DPRT_DT\", \"SCH_LEG_ORIG_CD\", \"SCH_LEG_DEST_CD\").count()"
   ]
  },
  {
   "cell_type": "markdown",
   "metadata": {},
   "source": [
    "**A5:** Yes"
   ]
  },
  {
   "cell_type": "markdown",
   "metadata": {
    "collapsed": true
   },
   "source": [
    "**Q6:** What was the most frequent check-in source among sampled customers?"
   ]
  },
  {
   "cell_type": "code",
   "execution_count": 11,
   "metadata": {
    "collapsed": false
   },
   "outputs": [
    {
     "name": "stdout",
     "output_type": "stream",
     "text": [
      "Histogram of CKIN_SOURCE: String sorted by Frequency\n",
      "key                      count      Pct    cumCount   cumPct\n",
      "AGENT                      586   54.77%         586   54.77%\n",
      "WEB                        329   30.75%         915   85.51%\n",
      "eService                   155   14.49%        1070  100.00%\n",
      "-------------------------------------------------\n"
     ]
    }
   ],
   "source": [
    "ckin.smvFreqHist(\"CKIN_SOURCE\")"
   ]
  },
  {
   "cell_type": "markdown",
   "metadata": {},
   "source": [
    "**A6:** \"AGENT\" - typically means a staff checked a passenger in at the airport counter"
   ]
  },
  {
   "cell_type": "markdown",
   "metadata": {},
   "source": [
    "**Q7:** At which city and which country does \"AGP\" locate?"
   ]
  },
  {
   "cell_type": "code",
   "execution_count": 12,
   "metadata": {
    "collapsed": false
   },
   "outputs": [
    {
     "name": "stdout",
     "output_type": "stream",
     "text": [
      "+---------+------------+\n",
      "|CITY_DESC|COUNTRY_DESC|\n",
      "+---------+------------+\n",
      "|   Malaga|       Spain|\n",
      "+---------+------------+\n",
      "\n"
     ]
    }
   ],
   "source": [
    "geo.filter(col(\"LOCATION_ID\")==\"AGP\").select(\"CITY_DESC\", \"COUNTRY_DESC\").show()"
   ]
  },
  {
   "cell_type": "markdown",
   "metadata": {},
   "source": [
    "**A7:** Malaga, Spain"
   ]
  }
 ],
 "metadata": {
  "kernelspec": {
   "display_name": "Python 2",
   "language": "python",
   "name": "python2"
  },
  "language_info": {
   "codemirror_mode": {
    "name": "ipython",
    "version": 2
   },
   "file_extension": ".py",
   "mimetype": "text/x-python",
   "name": "python",
   "nbconvert_exporter": "python",
   "pygments_lexer": "ipython2",
   "version": "2.7.10"
  }
 },
 "nbformat": 4,
 "nbformat_minor": 1
}
