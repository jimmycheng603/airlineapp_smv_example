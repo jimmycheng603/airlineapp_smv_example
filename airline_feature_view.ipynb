{
 "cells": [
  {
   "cell_type": "markdown",
   "metadata": {},
   "source": [
    "# Analytic View"
   ]
  },
  {
   "cell_type": "code",
   "execution_count": 1,
   "metadata": {
    "collapsed": true
   },
   "outputs": [],
   "source": [
    "import pandas as pd\n",
    "\n",
    "%matplotlib inline\n",
    "import matplotlib\n",
    "import matplotlib.pyplot as plt"
   ]
  },
  {
   "cell_type": "code",
   "execution_count": 2,
   "metadata": {},
   "outputs": [
    {
     "name": "stdout",
     "output_type": "stream",
     "text": [
      "com.mycompany.airlineapp.etl\n",
      "com.mycompany.airlineapp.datamodel\n",
      "com.mycompany.airlineapp.feature\n",
      "com.mycompany.airlineapp.app\n"
     ]
    }
   ],
   "source": [
    "lsStage()"
   ]
  },
  {
   "cell_type": "code",
   "execution_count": 18,
   "metadata": {},
   "outputs": [
    {
     "name": "stdout",
     "output_type": "stream",
     "text": [
      "(O) etl.dimtable.DimCustomer\n",
      "(O) etl.dimtable.DimFlightLeg\n",
      "(O) etl.dimtable.DimGeo\n",
      "(O) etl.dimtable.DimMember\n",
      "(O) etl.facttable.FactBooking\n",
      "(O) etl.facttable.FactCheckIn\n",
      "(O) etl.facttable.FactTicket\n",
      "(I) etl.inputset.BookingTable\n",
      "(I) etl.inputset.CheckInTable\n",
      "(I) etl.inputset.CustomerTable\n",
      "(I) etl.inputset.FlightLegTable\n",
      "(I) etl.inputset.GeoRef\n",
      "(I) etl.inputset.MemberTable\n",
      "(I) etl.inputset.TicketTable\n"
     ]
    }
   ],
   "source": [
    "ls(\"com.mycompany.airlineapp.etl\")"
   ]
  },
  {
   "cell_type": "markdown",
   "metadata": {},
   "source": [
    "### Run the features"
   ]
  },
  {
   "cell_type": "code",
   "execution_count": 1,
   "metadata": {
    "collapsed": true
   },
   "outputs": [],
   "source": [
    "cm_all_feat = pdf(\"com.mycompany.airlineapp.feature.cmallfeat.CustomerAllFeatureTreat\")"
   ]
  },
  {
   "cell_type": "markdown",
   "metadata": {},
   "source": [
    "### General Distribution"
   ]
  },
  {
   "cell_type": "code",
   "execution_count": 3,
   "metadata": {},
   "outputs": [
    {
     "name": "stdout",
     "output_type": "stream",
     "text": [
      "cmind_gender_f       Non-Null Count         22\n",
      "cmind_gender_f       Average                0.3181818181818182\n",
      "cmind_gender_f       Standard Deviation     0.4767312946227962\n",
      "cmind_gender_f       Min                    0.0\n",
      "cmind_gender_f       Max                    1.0\n",
      "cmcnt_seg_tvl_p1y    Non-Null Count         22\n",
      "cmcnt_seg_tvl_p1y    Average                19.59090909090909\n",
      "cmcnt_seg_tvl_p1y    Standard Deviation     67.36514507193442\n",
      "cmcnt_seg_tvl_p1y    Min                    0.0\n",
      "cmcnt_seg_tvl_p1y    Max                    317.0\n",
      "cmcnt_lh_seg_tvl_p1y Non-Null Count         22\n",
      "cmcnt_lh_seg_tvl_p1y Average                4.318181818181818\n",
      "cmcnt_lh_seg_tvl_p1y Standard Deviation     18.714360067265797\n",
      "cmcnt_lh_seg_tvl_p1y Min                    0.0\n",
      "cmcnt_lh_seg_tvl_p1y Max                    88.0\n",
      "cmsum_rev_tvl_p1y    Non-Null Count         22\n",
      "cmsum_rev_tvl_p1y    Average                29313.40227439187\n",
      "cmsum_rev_tvl_p1y    Standard Deviation     131362.66510444158\n",
      "cmsum_rev_tvl_p1y    Min                    0.0\n",
      "cmsum_rev_tvl_p1y    Max                    617316.8601150513\n",
      "cmint_age_now        Non-Null Count         22\n",
      "cmint_age_now        Average                40.68421052631579\n",
      "cmint_age_now        Standard Deviation     10.54718482674043\n",
      "cmint_age_now        Min                    23.0\n",
      "cmint_age_now        Max                    61.0\n",
      "cmind_tier0_now      Non-Null Count         22\n",
      "cmind_tier0_now      Average                0.7272727272727273\n",
      "cmind_tier0_now      Standard Deviation     0.4558423058385518\n",
      "cmind_tier0_now      Min                    0.0\n",
      "cmind_tier0_now      Max                    1.0\n"
     ]
    }
   ],
   "source": [
    "cm_all_feat.smvEdd(\"cmcnt_seg_tvl_p1y\", \"cmcnt_lh_seg_tvl_p1y\", \"cmsum_rev_tvl_p1y\", \"cmint_age_now\", \"cmind_gender_f\", \"cmind_tier0_now\")"
   ]
  },
  {
   "cell_type": "markdown",
   "metadata": {},
   "source": [
    "Note that since we only have ~20 customers, we can run edd on the entire dataset. When facing a large number of records or columns, it is suggested to run on a sample discussed in the tutorial's Section I."
   ]
  },
  {
   "cell_type": "markdown",
   "metadata": {},
   "source": [
    "### Continuous Variables"
   ]
  },
  {
   "cell_type": "markdown",
   "metadata": {},
   "source": [
    "Do binning on continuous variables and check distribution. Note again that since we only have a small population in the sample data, the variable may not seem to be \"continuous\"."
   ]
  },
  {
   "cell_type": "code",
   "execution_count": 12,
   "metadata": {},
   "outputs": [
    {
     "name": "stdout",
     "output_type": "stream",
     "text": [
      "Histogram of cmcnt_seg_tvl_p1y: with BIN size 10.0\n",
      "key                      count      Pct    cumCount   cumPct\n",
      "0.0                         17   77.27%          17   77.27%\n",
      "10.0                         3   13.64%          20   90.91%\n",
      "50.0                         1    4.55%          21   95.45%\n",
      "310.0                        1    4.55%          22  100.00%\n",
      "-------------------------------------------------\n",
      "Histogram of cmsum_rev_tvl_p1y: with BIN size 50.0\n",
      "key                      count      Pct    cumCount   cumPct\n",
      "0.0                         11   50.00%          11   50.00%\n",
      "250.0                        1    4.55%          12   54.55%\n",
      "300.0                        1    4.55%          13   59.09%\n",
      "350.0                        1    4.55%          14   63.64%\n",
      "400.0                        1    4.55%          15   68.18%\n",
      "650.0                        1    4.55%          16   72.73%\n",
      "1750.0                       1    4.55%          17   77.27%\n",
      "1800.0                       1    4.55%          18   81.82%\n",
      "3850.0                       1    4.55%          19   86.36%\n",
      "6050.0                       1    4.55%          20   90.91%\n",
      "12000.0                      1    4.55%          21   95.45%\n",
      "617300.0                     1    4.55%          22  100.00%\n",
      "-------------------------------------------------\n"
     ]
    }
   ],
   "source": [
    "cm_all_feat.smvBinHist((\"cmcnt_seg_tvl_p1y\", 10),(\"cmsum_rev_tvl_p1y\", 50))"
   ]
  },
  {
   "cell_type": "markdown",
   "metadata": {},
   "source": [
    "### Ordinal Variables Frequency"
   ]
  },
  {
   "cell_type": "code",
   "execution_count": 35,
   "metadata": {
    "collapsed": true
   },
   "outputs": [],
   "source": [
    "def _pfreqhist(df, *cols):\n",
    "    pdf = df.toPandas()\n",
    "    no_cols = len(cols)\n",
    "    fig = plt.figure()\n",
    "    num = 1\n",
    "\n",
    "    for col in cols:\n",
    "        fig.add_subplot(no_cols,1,num)\n",
    "        s = pdf[col].value_counts()\n",
    "        ax = s.plot(kind='bar', color='k', alpha=0.3)\n",
    "        ax.set_xticklabels(s.index, fontsize=6)\n",
    "        num += 1\n",
    "\n",
    "DataFrame.pfreqhist = lambda df, *cols: _pfreqhist(df, *cols)"
   ]
  },
  {
   "cell_type": "code",
   "execution_count": 25,
   "metadata": {},
   "outputs": [
    {
     "data": {
      "image/png": "[encoded data removed]",
      "text/plain": [
       "<matplotlib.figure.Figure at 0x110c6ffd0>"
      ]
     },
     "metadata": {},
     "output_type": "display_data"
    }
   ],
   "source": [
    "cm_all_feat.pfreqhist(\"cmint_age_now\")"
   ]
  },
  {
   "cell_type": "markdown",
   "metadata": {},
   "source": [
    "You can see that we have 3 customers with age 40.684..., which are the results of missing imputation. Users can also use **`cast(IntegerType)`** when calculating the group average to make sure the outputs are of integer type."
   ]
  },
  {
   "cell_type": "markdown",
   "metadata": {},
   "source": [
    "### Recoded Binary / Category Variables Cross-Check"
   ]
  },
  {
   "cell_type": "markdown",
   "metadata": {},
   "source": [
    "As we have recoded some binary / categorical variables, it makes sense to do some cross-check to ensure the results are as expected"
   ]
  },
  {
   "cell_type": "code",
   "execution_count": 29,
   "metadata": {},
   "outputs": [
    {
     "name": "stdout",
     "output_type": "stream",
     "text": [
      "Histogram of cmstr_gender_cd: String sort by Key\n",
      "key                      count      Pct    cumCount   cumPct\n",
      "F                            7   31.82%           7   31.82%\n",
      "M                           12   54.55%          19   86.36%\n",
      "NA                           3   13.64%          22  100.00%\n",
      "-------------------------------------------------\n",
      "Histogram of cmstr_tier_now: String sort by Key\n",
      "key                      count      Pct    cumCount   cumPct\n",
      "0                           16   72.73%          16   72.73%\n",
      "1                            3   13.64%          19   86.36%\n",
      "2                            1    4.55%          20   90.91%\n",
      "3                            1    4.55%          21   95.45%\n",
      "5                            1    4.55%          22  100.00%\n",
      "-------------------------------------------------\n"
     ]
    }
   ],
   "source": [
    "cm_all_feat.smvHist(\"cmstr_gender_cd\", \"cmstr_tier_now\")"
   ]
  },
  {
   "cell_type": "code",
   "execution_count": 27,
   "metadata": {},
   "outputs": [
    {
     "name": "stdout",
     "output_type": "stream",
     "text": [
      "Histogram of cmind_gender_f_cmind_gender_m: String sort by Key\n",
      "key                      count      Pct    cumCount   cumPct\n",
      "0_0                          3   13.64%           3   13.64%\n",
      "0_1                         12   54.55%          15   68.18%\n",
      "1_0                          7   31.82%          22  100.00%\n",
      "-------------------------------------------------\n"
     ]
    }
   ],
   "source": [
    "cm_all_feat.smvConcatHist([\"cmind_gender_f\", \"cmind_gender_m\"])"
   ]
  },
  {
   "cell_type": "code",
   "execution_count": 30,
   "metadata": {},
   "outputs": [
    {
     "name": "stdout",
     "output_type": "stream",
     "text": [
      "Histogram of cmind_tier0_now_cmind_tier1_now_cmind_tier2_now_cmind_tier3_now: String sort by Key\n",
      "key                      count      Pct    cumCount   cumPct\n",
      "0_0_0_0                      1    4.55%           1    4.55%\n",
      "0_0_0_1                      1    4.55%           2    9.09%\n",
      "0_0_1_0                      1    4.55%           3   13.64%\n",
      "0_1_0_0                      3   13.64%           6   27.27%\n",
      "1_0_0_0                     16   72.73%          22  100.00%\n",
      "-------------------------------------------------\n"
     ]
    }
   ],
   "source": [
    "cm_all_feat.smvConcatHist([\"cmind_tier0_now\", \"cmind_tier1_now\", \"cmind_tier2_now\", \"cmind_tier3_now\"])"
   ]
  },
  {
   "cell_type": "code",
   "execution_count": null,
   "metadata": {
    "collapsed": true
   },
   "outputs": [],
   "source": []
  }
 ],
 "metadata": {
  "kernelspec": {
   "display_name": "Python 2",
   "language": "python",
   "name": "python2"
  },
  "language_info": {
   "codemirror_mode": {
    "name": "ipython",
    "version": 2
   },
   "file_extension": ".py",
   "mimetype": "text/x-python",
   "name": "python",
   "nbconvert_exporter": "python",
   "pygments_lexer": "ipython2",
   "version": "2.7.13"
  }
 },
 "nbformat": 4,
 "nbformat_minor": 1
}
