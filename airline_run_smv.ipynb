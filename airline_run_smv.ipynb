{
 "cells": [
  {
   "cell_type": "markdown",
   "metadata": {},
   "source": [
    "# Run Smv, Check Results and Answer Questions"
   ]
  },
  {
   "cell_type": "markdown",
   "metadata": {},
   "source": [
    "## I. Build the Project\n",
    "\n",
    "As discussed in the sample project, users need to build the project after initializaiton. Use `mvn package` or `sbt assembly` depending on the tool you use to compile Scala. Please note that if users are using [the latest SMV version](https://github.com/TresAmigosSD/SMV), this step may be skipped. Please carefully check relevant documents and test."
   ]
  },
  {
   "cell_type": "markdown",
   "metadata": {},
   "source": [
    "## II. Run Modules / Stages / App\n",
    "After the project has been successfully built and compiled, users can choose to run a smv module in many ways:"
   ]
  },
  {
   "cell_type": "markdown",
   "metadata": {},
   "source": [
    "### 1. Run using command line"
   ]
  },
  {
   "cell_type": "markdown",
   "metadata": {},
   "source": [
    "#### Commands\n",
    "\n",
    "Open a Terminal, users can run smv modules / stages by command line.  \n",
    "\n",
    "**Python Interface**  \n",
    "Run `CustomerMaster` module: **`smv-pyrun -m com.mycompany.airlineapp.datamodel.customermaster.CustomerMaster`**   \n",
    "\n",
    "**Scala Interface**  \n",
    "Run `CustomerMaster` module: **`smv-run -m datamodel.CustomerMaster`**  \n",
    "Run all modules in `feature` stage: **`smv-run -s feature`**   \n",
    "Run the entire airline app: **`smv-run --run-app`**  \n",
    "\n",
    "The output files will be generated at the configured output location (for example AirlineApp/data/output). By default, smv will run the module and all its dependent modules (predecessors), so that users do not need to run modules one by one from the data flow. If we make some changes only in module `CustomerMaster` and then rerun, all predecessors will not rerun."
   ]
  },
  {
   "cell_type": "markdown",
   "metadata": {},
   "source": [
    "#### Auto-Versioning\n",
    "\n",
    "One great functionality Smv offers is ***auto-versioning***, where each dataset will be tagged a version (examples as below) after running.   \n",
    "**`com.mycompany.airlineapp.datamodel.customermaster.CustomerMaster_d0cbd3e4.csv  \n",
    "com.mycompany.airlineapp.feature.cmprofilefeat.CustomerProfileFeature_34aaa51d.csv\n",
    "`**\n",
    "\n",
    "If any code or input changes for a module, when you rerun the module, you will have the old and new outputs with different version tags. Developers can check results and compare to older versions when needed. "
   ]
  },
  {
   "cell_type": "markdown",
   "metadata": {},
   "source": [
    "#### Purging Old Outputs\n",
    "\n",
    "Smv also offers an option in `smv-rum` to purge old outputs based on the auto-versioning: **`smv-run --purge-old-output`**. Users are suggested to try this tool when there are a lot of datasets under the output directory."
   ]
  },
  {
   "cell_type": "markdown",
   "metadata": {},
   "source": [
    "### 2. Run in a jupyter notebook\n",
    "\n",
    "Running a module in jupyter persists outputs in the same way as running in commandline, and as discussed before, with the notebook users can do instant checks and quality controls of the outputs."
   ]
  },
  {
   "cell_type": "markdown",
   "metadata": {},
   "source": [
    "Run `CustomerMaster` module"
   ]
  },
  {
   "cell_type": "code",
   "execution_count": 1,
   "metadata": {
    "collapsed": true
   },
   "outputs": [],
   "source": [
    "module_name=\"com.mycompany.airlineapp.datamodel.customermaster.CustomerMaster\""
   ]
  },
  {
   "cell_type": "code",
   "execution_count": 2,
   "metadata": {},
   "outputs": [],
   "source": [
    "cm_mst = pdf(module_name)"
   ]
  },
  {
   "cell_type": "code",
   "execution_count": 3,
   "metadata": {},
   "outputs": [
    {
     "name": "stdout",
     "output_type": "stream",
     "text": [
      "+------------+----------+--------+--------+------+--------+----------+\n",
      "|     CUST_ID|BIRTH_YYYY|BIRTH_MM|BIRTH_DD|gender|CURR_LVL| ENROLL_DT|\n",
      "+------------+----------+--------+--------+------+--------+----------+\n",
      "|000544814415|      1976|       9|      19|     F|       0|2014-05-20|\n",
      "|000407811114|      1979|       4|      30|     F|       0|      null|\n",
      "|000876964176|      null|    null|    null|    NA|       1|      null|\n",
      "|000499804303|      1971|       2|      26|     M|       3|2001-03-05|\n",
      "|000163353775|      1990|       4|      13|     F|       1|2014-06-04|\n",
      "|000682324216|      1981|      12|      26|     M|       0|2009-08-21|\n",
      "|000134299922|      1956|       4|      26|     M|       0|      null|\n",
      "|000365709222|      1953|      12|      20|     M|       5|1982-09-15|\n",
      "|000402848256|      1957|       8|       9|     F|       0|2014-07-30|\n",
      "|000531414908|      1977|       9|      25|     M|       0|2001-03-01|\n",
      "|000171572471|      1973|       3|       1|     M|       0|1996-11-05|\n",
      "|000809758842|      1972|      12|       1|     M|       0|2003-04-11|\n",
      "|000364119910|      null|    null|    null|    NA|       0|1984-02-10|\n",
      "|000990013836|      1986|       5|      10|     F|       0|2010-02-14|\n",
      "|000704225906|      1962|       3|      17|     F|       0|2000-03-23|\n",
      "|000099281768|      1960|       3|       3|     M|       0|2011-11-29|\n",
      "|000165855849|      1968|       7|       6|     M|       0|1997-03-18|\n",
      "|000950169665|      1982|       9|      13|     F|       2|2006-01-17|\n",
      "|000102195898|      null|    null|    null|    NA|       0|      null|\n",
      "|000493524149|      1979|       2|      19|     M|       0|      null|\n",
      "+------------+----------+--------+--------+------+--------+----------+\n",
      "only showing top 20 rows\n",
      "\n"
     ]
    }
   ],
   "source": [
    "cm_mst.show()"
   ]
  },
  {
   "cell_type": "markdown",
   "metadata": {},
   "source": [
    "Run `CustomerProfileFeature` module"
   ]
  },
  {
   "cell_type": "code",
   "execution_count": 4,
   "metadata": {
    "collapsed": true
   },
   "outputs": [],
   "source": [
    "cm_pro_feat = pdf(\"com.mycompany.airlineapp.feature.cmprofilefeat.CustomerProfileFeature\")"
   ]
  },
  {
   "cell_type": "code",
   "execution_count": 5,
   "metadata": {},
   "outputs": [
    {
     "name": "stdout",
     "output_type": "stream",
     "text": [
      "+------------+--------------+---------------------+-------------+---------------+\n",
      "|     CUST_ID|cmstr_tier_now|cmcnt_days_enroll_now|cmint_age_now|cmstr_gender_cd|\n",
      "+------------+--------------+---------------------+-------------+---------------+\n",
      "|000544814415|             0|                   72|           38|              F|\n",
      "|000407811114|             0|                 null|           35|              F|\n",
      "|000876964176|             1|                 null|         null|             NA|\n",
      "|000499804303|             3|                 4896|           43|              M|\n",
      "|000163353775|             1|                   57|           24|              F|\n",
      "|000682324216|             0|                 1805|           33|              M|\n",
      "|000134299922|             0|                 null|           58|              M|\n",
      "|000365709222|             5|                11642|           61|              M|\n",
      "|000402848256|             0|                    1|           57|              F|\n",
      "|000531414908|             0|                 4900|           37|              M|\n",
      "+------------+--------------+---------------------+-------------+---------------+\n",
      "only showing top 10 rows\n",
      "\n"
     ]
    }
   ],
   "source": [
    "cm_pro_feat.show(10)"
   ]
  },
  {
   "cell_type": "code",
   "execution_count": 6,
   "metadata": {},
   "outputs": [
    {
     "name": "stdout",
     "output_type": "stream",
     "text": [
      "CUST_ID              Non-Null Count         22\n",
      "CUST_ID              Min Length             12\n",
      "CUST_ID              Max Length             12\n",
      "CUST_ID              Approx Distinct Count  22\n",
      "cmstr_tier_now       Non-Null Count         22\n",
      "cmstr_tier_now       Min Length             1\n",
      "cmstr_tier_now       Max Length             1\n",
      "cmstr_tier_now       Approx Distinct Count  5\n",
      "cmcnt_days_enroll_now Non-Null Count         16\n",
      "cmcnt_days_enroll_now Average                3910.9375\n",
      "cmcnt_days_enroll_now Standard Deviation     3705.7524556424437\n",
      "cmcnt_days_enroll_now Min                    1.0\n",
      "cmcnt_days_enroll_now Max                    11642.0\n",
      "cmint_age_now        Non-Null Count         19\n",
      "cmint_age_now        Average                40.68421052631579\n",
      "cmint_age_now        Standard Deviation     11.392261660047758\n",
      "cmint_age_now        Min                    23.0\n",
      "cmint_age_now        Max                    61.0\n",
      "cmstr_gender_cd      Non-Null Count         22\n",
      "cmstr_gender_cd      Min Length             1\n",
      "cmstr_gender_cd      Max Length             2\n",
      "cmstr_gender_cd      Approx Distinct Count  3\n"
     ]
    }
   ],
   "source": [
    "cm_pro_feat.smvEdd()"
   ]
  },
  {
   "cell_type": "markdown",
   "metadata": {},
   "source": [
    "### 3. Run in Smv Shell / PyShell"
   ]
  },
  {
   "cell_type": "markdown",
   "metadata": {},
   "source": [
    "Another alternative way to run a module is from Smv Shell, users can launch a shell session with command **`smv-pyshell`** or **`smv-shell`** in the terminal\n",
    "\n",
    "**Python** \n",
    "```python\n",
    ">>> a = pdf(\"com.mycompany.airlineapp.feature.cmprofilefeat.CustomerProfileFeature\")\n",
    ">>> a.smvEdd()\n",
    ">>> ...\n",
    "```\n",
    "\n",
    "**Scala**\n",
    "```scala\n",
    "scala> val a = df(\"com.mycompany.airlineapp.feature.CustomerProfileFeature\")\n",
    "scala> a.smvEdd()\n",
    "scala> ...\n",
    "```"
   ]
  },
  {
   "cell_type": "markdown",
   "metadata": {},
   "source": [
    "## III. Address the business requirement to understand the customer profile\n",
    "\n",
    "Now with some customer features created, the business questions may be addressed."
   ]
  },
  {
   "cell_type": "markdown",
   "metadata": {},
   "source": [
    "### 1. How many customers joined the FFP programme in recent 3 years?"
   ]
  },
  {
   "cell_type": "code",
   "execution_count": 7,
   "metadata": {},
   "outputs": [
    {
     "data": {
      "text/plain": [
       "5"
      ]
     },
     "execution_count": 7,
     "metadata": {},
     "output_type": "execute_result"
    }
   ],
   "source": [
    "cm_pro_feat.filter(col(\"cmcnt_days_enroll_now\")/365 < 3).count()"
   ]
  },
  {
   "cell_type": "markdown",
   "metadata": {},
   "source": [
    "### 2. What is the average age and tenure of each tier?"
   ]
  },
  {
   "cell_type": "code",
   "execution_count": 8,
   "metadata": {},
   "outputs": [
    {
     "name": "stdout",
     "output_type": "stream",
     "text": [
      "+--------------+------------------+------------------------+\n",
      "|cmstr_tier_now|   tieravg_age_now|tieravg_years_enroll_now|\n",
      "+--------------+------------------+------------------------+\n",
      "|             0|41.357142857142854|       9.333333333333334|\n",
      "|             1|              29.0|                     0.0|\n",
      "|             2|              32.0|                     8.0|\n",
      "|             3|              43.0|                    13.0|\n",
      "|             5|              61.0|                    31.0|\n",
      "+--------------+------------------+------------------------+\n",
      "\n"
     ]
    }
   ],
   "source": [
    "cm_pro_feat.groupBy(\"cmstr_tier_now\").agg(\n",
    "    avg(col(\"cmint_age_now\")).alias(\"tieravg_age_now\"),\n",
    "    avg(col(\"cmcnt_days_enroll_now\")/365).alias(\"tieravg_years_enroll_now\"),\n",
    ").show()"
   ]
  }
 ],
 "metadata": {
  "kernelspec": {
   "display_name": "Python 2",
   "language": "python",
   "name": "python2"
  },
  "language_info": {
   "codemirror_mode": {
    "name": "ipython",
    "version": 2
   },
   "file_extension": ".py",
   "mimetype": "text/x-python",
   "name": "python",
   "nbconvert_exporter": "python",
   "pygments_lexer": "ipython2",
   "version": "2.7.13"
  }
 },
 "nbformat": 4,
 "nbformat_minor": 1
}
