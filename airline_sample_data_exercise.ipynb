{
 "cells": [
  {
   "cell_type": "markdown",
   "metadata": {},
   "source": [
    "# Airline Sample Data Exercise Answer"
   ]
  },
  {
   "cell_type": "markdown",
   "metadata": {},
   "source": [
    "### **Q1:** How many unique customers are there? How many do not have specific age information?"
   ]
  },
  {
   "cell_type": "code",
   "execution_count": 1,
   "metadata": {
    "collapsed": true
   },
   "outputs": [],
   "source": [
    "import smv"
   ]
  },
  {
   "cell_type": "code",
   "execution_count": 5,
   "metadata": {
    "collapsed": true
   },
   "outputs": [],
   "source": [
    "# Input data\n",
    "# openCsv:  Helper functions available in SMV's Python shell\n",
    "customer = openCsv(r'hdfs:///user/ml/data/input/airline/customer.csv')\n",
    "member = openCsv(r'hdfs:///user/ml/data/input/airline/member_lvl.csv')\n",
    "bkg = openCsv(r'hdfs:///user/ml/data/input/airline/booking.csv')\n",
    "tkt = openCsv(r'hdfs:///user/ml/data/input/airline/ticket.csv')\n",
    "ckin = openCsv(r'hdfs:///user/ml/data/input/airline/checkin.csv')\n",
    "geo = openCsv(r'hdfs:///user/ml/data/input/airline/ref_geo.csv')"
   ]
  },
  {
   "cell_type": "code",
   "execution_count": 6,
   "metadata": {},
   "outputs": [
    {
     "data": {
      "text/plain": [
       "pyspark.sql.dataframe.DataFrame"
      ]
     },
     "execution_count": 6,
     "metadata": {},
     "output_type": "execute_result"
    }
   ],
   "source": [
    "type(customer)"
   ]
  },
  {
   "cell_type": "code",
   "execution_count": 7,
   "metadata": {},
   "outputs": [
    {
     "name": "stdout",
     "output_type": "stream",
     "text": [
      "CUST_ID              Non-Null Count         22\n",
      "CUST_ID              Null Count             0\n",
      "CUST_ID              Min Length             12\n",
      "CUST_ID              Max Length             12\n",
      "CUST_ID              Approx Distinct Count  22\n",
      "BIRTH_MM             Non-Null Count         19\n",
      "BIRTH_MM             Null Count             3\n",
      "BIRTH_MM             Average                7.0\n",
      "BIRTH_MM             Standard Deviation     2.943920288775949\n",
      "BIRTH_MM             Min                    2.0\n",
      "BIRTH_MM             Max                    12.0\n",
      "BIRTH_DD             Non-Null Count         19\n",
      "BIRTH_DD             Null Count             3\n",
      "BIRTH_DD             Average                16.789473684210527\n",
      "BIRTH_DD             Standard Deviation     8.495612902933562\n",
      "BIRTH_DD             Min                    1.0\n",
      "BIRTH_DD             Max                    30.0\n",
      "BIRTH_YYYY           Non-Null Count         19\n",
      "BIRTH_YYYY           Null Count             3\n",
      "BIRTH_YYYY           Average                1974.157894736842\n",
      "BIRTH_YYYY           Standard Deviation     11.724917236830537\n",
      "BIRTH_YYYY           Min                    1953.0\n",
      "BIRTH_YYYY           Max                    1992.0\n",
      "GENDER_CD            Non-Null Count         19\n",
      "GENDER_CD            Null Count             3\n",
      "GENDER_CD            Min Length             1\n",
      "GENDER_CD            Max Length             1\n",
      "GENDER_CD            Approx Distinct Count  2\n",
      "DECEASED_IND         Non-Null Count         22\n",
      "DECEASED_IND         Null Count             0\n",
      "DECEASED_IND         Min Length             1\n",
      "DECEASED_IND         Max Length             1\n",
      "DECEASED_IND         Approx Distinct Count  1\n"
     ]
    }
   ],
   "source": [
    "# smvEdd: This module provides the helper functions on DataFrame objects and Column objects\n",
    "customer.smvEdd()"
   ]
  },
  {
   "cell_type": "markdown",
   "metadata": {
    "collapsed": true
   },
   "source": [
    "### **A1:** 22 unique customers, 3 without age information."
   ]
  },
  {
   "cell_type": "markdown",
   "metadata": {},
   "source": [
    "### ========================================================================================="
   ]
  },
  {
   "cell_type": "markdown",
   "metadata": {},
   "source": [
    "### **Q2:** Which customer joined FFP the earliest among all sampled customers?"
   ]
  },
  {
   "cell_type": "code",
   "execution_count": 8,
   "metadata": {},
   "outputs": [
    {
     "name": "stdout",
     "output_type": "stream",
     "text": [
      "+------------+--------+----------+\n",
      "|     CUST_ID|CURR_LVL| ENROLL_DT|\n",
      "+------------+--------+----------+\n",
      "|000365709222|       5|1982-09-15|\n",
      "|000171572471|       0|1995-12-06|\n",
      "|000134299922|       0|      null|\n",
      "|000407811114|       0|      null|\n",
      "|000025063186|       1|      null|\n",
      "|000102195898|       0|2007-02-17|\n",
      "|000809758842|       0|2004-06-21|\n",
      "|000493524149|       0|      null|\n",
      "|000099281768|       0|2010-12-29|\n",
      "|000876964176|       1|      null|\n",
      "|000704225906|       0|2001-03-24|\n",
      "|000499804303|       3|2002-03-05|\n",
      "|000531414908|       0|2000-06-11|\n",
      "|000950169665|       2|      null|\n",
      "|000364119910|       0|1986-05-15|\n",
      "|000682324216|       0|2007-10-21|\n",
      "|000165855849|       0|1995-06-19|\n",
      "|000990013836|       0|2010-02-14|\n",
      "|000225479520|       0|2014-03-22|\n",
      "|000544814415|       0|2015-04-05|\n",
      "+------------+--------+----------+\n",
      "only showing top 20 rows\n",
      "\n"
     ]
    }
   ],
   "source": [
    "member.show()"
   ]
  },
  {
   "cell_type": "code",
   "execution_count": 4,
   "metadata": {},
   "outputs": [
    {
     "name": "stdout",
     "output_type": "stream",
     "text": [
      "+------------+--------+----------+\n",
      "|     CUST_ID|CURR_LVL| ENROLL_DT|\n",
      "+------------+--------+----------+\n",
      "|000365709222|       5|1982-09-15|\n",
      "+------------+--------+----------+\n",
      "only showing top 1 row\n",
      "\n"
     ]
    }
   ],
   "source": [
    "member.filter(col(\"ENROLL_DT\").isNotNull()).orderBy(\"ENROLL_DT\").show(1)"
   ]
  },
  {
   "cell_type": "markdown",
   "metadata": {},
   "source": [
    "### **A2:** The customer with ID 000365709222 joined in 1982."
   ]
  },
  {
   "cell_type": "markdown",
   "metadata": {},
   "source": [
    "### ================================================================================="
   ]
  },
  {
   "cell_type": "markdown",
   "metadata": {},
   "source": [
    "### **Q3:** How many records are there in ticket table?"
   ]
  },
  {
   "cell_type": "code",
   "execution_count": 5,
   "metadata": {},
   "outputs": [
    {
     "data": {
      "text/plain": [
       "1941"
      ]
     },
     "execution_count": 5,
     "metadata": {},
     "output_type": "execute_result"
    }
   ],
   "source": [
    "tkt.count()"
   ]
  },
  {
   "cell_type": "markdown",
   "metadata": {},
   "source": [
    "### **A3:** 1941 records\n",
    "\n",
    "One caveat is that this kind of check may take a long time on a large full data."
   ]
  },
  {
   "cell_type": "markdown",
   "metadata": {},
   "source": [
    "### =================================================================================="
   ]
  },
  {
   "cell_type": "markdown",
   "metadata": {},
   "source": [
    "### **Q4:** What is the missing rate of \"CABIN\" in booking table?"
   ]
  },
  {
   "cell_type": "code",
   "execution_count": 9,
   "metadata": {},
   "outputs": [
    {
     "name": "stdout",
     "output_type": "stream",
     "text": [
      "+------+---------------+------------+--------------------+--------------------+-------+----------+---------------+-------------------+-------------------+---------------+---------------+-----+-----+-------+---------+-------+---------+---------+\n",
      "|   PNR|PNR_CREATION_DT|     CUST_ID|        BK_ACTIVE_TM|      BK_INACTIVE_TM|FLT_NUM|CARRIER_CD|FLT_LEG_DPRT_DT|    FLT_LEG_DPRT_TM|    FLT_LEG_ARRV_TM|SCH_LEG_ORIG_CD|SCH_LEG_DEST_CD|CABIN|CLASS|NUM_PAX|ACTION_CD|SEG_NUM|CONN_NEXT|CONN_PREV|\n",
      "+------+---------------+------------+--------------------+--------------------+-------+----------+---------------+-------------------+-------------------+---------------+---------------+-----+-----+-------+---------+-------+---------+---------+\n",
      "|00E41B|     2014-03-04|000365709222|2014-03-04 01:59:...|2014-03-04 01:59:...|   8113|        FB|     2014-03-12|2014-03-13 00:16:00|2014-03-13 01:24:00|            MBS|            ORD|    Y|    Y|      1|       TV|      1|        2|        0|\n",
      "|00E41B|     2014-03-04|000365709222|2014-03-04 01:59:...|2014-03-04 01:59:...|   3017|        FB|     2014-03-12|2014-03-13 03:00:00|2014-03-13 11:05:00|            ORD|            LHR|    F|    F|      1|       TV|      2|        3|        1|\n",
      "|00E41B|     2014-03-04|000365709222|2014-03-04 01:59:...|2014-03-04 01:59:...|   9067|        FB|     2014-03-13|2014-03-13 14:50:00|2014-03-13 23:10:00|            LHR|            EWR|    F|    F|      1|       TV|      3|        0|        2|\n",
      "|0154CE|     2013-09-06|000365709222|2013-09-06 04:21:...|2013-09-06 04:22:...|   9557|        FB|     2013-09-30|2013-09-30 18:00:00|2013-09-30 19:02:00|            ORD|            MBS|    Y|    Y|      1|       TV|      1|        0|        0|\n",
      "|0154CE|     2013-09-06|000365709222|2013-09-06 04:22:...|2013-09-06 04:23:...|   5899|        FB|     2013-10-04|2013-10-04 13:00:00|2013-10-04 14:13:00|            MBS|            ORD|    Y|    Y|      1|       TV|      2|        3|        0|\n",
      "|0154CE|     2013-09-06|000365709222|2013-09-06 04:22:...|2013-09-06 04:23:...|   3440|        FB|     2013-10-04|2013-10-04 15:32:00|2013-10-04 17:50:00|            ORD|            EWR|    Y|    Y|      1|       TV|      3|        0|        2|\n",
      "|0154CE|     2013-09-06|000365709222|2013-09-06 04:22:...|2013-09-29 06:04:...|   9557|        FB|     2013-09-30|2013-09-30 18:00:00|2013-09-30 19:02:00|            ORD|            MBS|    Y|    Y|      1|       NV|      1|        0|        0|\n",
      "|0154CE|     2013-09-06|000365709222|2013-09-06 04:23:...|2013-09-06 04:25:...|   5899|        FB|     2013-10-04|2013-10-04 13:00:00|2013-10-04 14:13:00|            MBS|            ORD|    Y|    Y|      1|       NV|      2|        3|        0|\n",
      "|0154CE|     2013-09-06|000365709222|2013-09-06 04:25:...|2013-09-06 04:25:...|   3440|        FB|     2013-10-04|2013-10-04 15:32:00|2013-10-04 17:50:00|            ORD|            EWR|    P|    F|      1|       TV|      3|        0|        2|\n",
      "|0154CE|     2013-09-06|000365709222|2013-09-06 04:25:...|2013-09-29 06:04:...|   5899|        FB|     2013-10-04|2013-10-04 13:00:00|2013-10-04 14:13:00|            MBS|            ORD|    Y|    Y|      1|       NV|      2|        3|        0|\n",
      "|0154CE|     2013-09-06|000365709222|2013-09-06 04:25:...|2013-09-29 06:04:...|   3440|        FB|     2013-10-04|2013-10-04 15:32:00|2013-10-04 17:50:00|            ORD|            EWR|    P|    F|      1|       NV|      3|        0|        2|\n",
      "|0154CE|     2013-09-06|000365709222|2013-09-29 06:04:...|2013-10-02 18:57:...|   5899|        FB|     2013-10-04|2013-10-04 13:00:00|2013-10-04 14:13:00|            MBS|            ORD|    Y|    Y|      1|       NV|      2|        3|        0|\n",
      "|0154CE|     2013-09-06|000365709222|2013-09-29 06:04:...|2013-10-02 18:57:...|   3440|        FB|     2013-10-04|2013-10-04 15:32:00|2013-10-04 17:50:00|            ORD|            EWR|    P|    F|      1|       NV|      3|        0|        2|\n",
      "|0202CE|     2014-03-30|000365709222|2014-03-30 19:10:...|2014-03-30 19:12:...|   1585|        FB|     2014-04-04|2014-04-04 09:05:00|2014-04-04 17:05:00|            LHR|            EWR|    P|    C|      1|       TV|      3|        0|        2|\n",
      "|0202CE|     2014-03-30|000365709222|2014-03-30 19:10:...|2014-03-30 19:12:...|   9557|        FB|     2014-04-03|2014-04-03 19:44:00|2014-04-03 20:54:00|            MBS|            ORD|    Y|    Y|      1|       TV|      1|        2|        0|\n",
      "|0202CE|     2014-03-30|000365709222|2014-03-30 19:10:...|2014-03-30 19:12:...|   2308|        FB|     2014-04-03|2014-04-03 23:20:00|2014-04-04 07:35:00|            ORD|            LHR|    F|    F|      1|       TV|      2|        3|        1|\n",
      "|0202CE|     2014-03-30|000365709222|2014-03-30 19:12:...|2014-04-03 19:39:...|   1585|        FB|     2014-04-04|2014-04-04 09:05:00|2014-04-04 17:05:00|            LHR|            EWR|    P|    C|      1|       NV|      3|        0|        2|\n",
      "|0202CE|     2014-03-30|000365709222|2014-03-30 19:12:...|2014-04-03 19:39:...|   9557|        FB|     2014-04-03|2014-04-03 19:44:00|2014-04-03 20:54:00|            MBS|            ORD|    Y|    Y|      1|       NV|      1|        2|        0|\n",
      "|0202CE|     2014-03-30|000365709222|2014-03-30 19:12:...|2014-04-03 19:39:...|   2308|        FB|     2014-04-03|2014-04-03 23:20:00|2014-04-04 07:35:00|            ORD|            LHR|    F|    F|      1|       NV|      2|        3|        1|\n",
      "|0202CE|     2014-03-30|000365709222|2014-04-03 19:39:...|2014-04-03 19:39:...|   6647|        FB|     2014-04-03|2014-04-04 02:15:00|2014-04-04 04:28:00|            ORD|            EWR|    Y|    Y|      1|       TV|      4|        0|        0|\n",
      "+------+---------------+------------+--------------------+--------------------+-------+----------+---------------+-------------------+-------------------+---------------+---------------+-----+-----+-------+---------+-------+---------+---------+\n",
      "only showing top 20 rows\n",
      "\n"
     ]
    }
   ],
   "source": [
    "bkg.show()"
   ]
  },
  {
   "cell_type": "code",
   "execution_count": 10,
   "metadata": {},
   "outputs": [
    {
     "data": {
      "text/plain": [
       "6676"
      ]
     },
     "execution_count": 10,
     "metadata": {},
     "output_type": "execute_result"
    }
   ],
   "source": [
    "bkg.count()"
   ]
  },
  {
   "cell_type": "code",
   "execution_count": 6,
   "metadata": {},
   "outputs": [
    {
     "data": {
      "text/plain": [
       "1309"
      ]
     },
     "execution_count": 6,
     "metadata": {},
     "output_type": "execute_result"
    }
   ],
   "source": [
    "bkg_sample = bkg.sample(False, 0.2, 99).cache()\n",
    "bkg_sample.count()"
   ]
  },
  {
   "cell_type": "code",
   "execution_count": 7,
   "metadata": {},
   "outputs": [
    {
     "name": "stdout",
     "output_type": "stream",
     "text": [
      "CABIN                Non-Null Count         1286\n",
      "CABIN                Min Length             1\n",
      "CABIN                Max Length             1\n",
      "CABIN                Approx Distinct Count  4\n"
     ]
    }
   ],
   "source": [
    "bkg_sample.smvEdd(\"CABIN\")"
   ]
  },
  {
   "cell_type": "code",
   "execution_count": 8,
   "metadata": {},
   "outputs": [
    {
     "data": {
      "text/plain": [
       "1.757066462948816"
      ]
     },
     "execution_count": 8,
     "metadata": {},
     "output_type": "execute_result"
    }
   ],
   "source": [
    "float(1309-1286)/float(1309)*100"
   ]
  },
  {
   "cell_type": "markdown",
   "metadata": {},
   "source": [
    "### **A4:** 1.76%"
   ]
  },
  {
   "cell_type": "markdown",
   "metadata": {},
   "source": [
    "### ======================================================================================"
   ]
  },
  {
   "cell_type": "markdown",
   "metadata": {},
   "source": [
    "### **Q5:** Validate whether the set of [\"CUST_ID\", \"PNR\", \"PNR_CREATION_DT\", \"FLT_LEG_DPRT_DT\", \"SCH_LEG_ORIG_CD\", \"SCH_LEG_DEST_CD\"] can be primary keys of ticket table."
   ]
  },
  {
   "cell_type": "code",
   "execution_count": 9,
   "metadata": {},
   "outputs": [
    {
     "data": {
      "text/plain": [
       "583"
      ]
     },
     "execution_count": 9,
     "metadata": {},
     "output_type": "execute_result"
    }
   ],
   "source": [
    "tkt_sample = tkt.sample(False, 0.3, 99).cache()\n",
    "tkt_sample.count()"
   ]
  },
  {
   "cell_type": "code",
   "execution_count": 10,
   "metadata": {},
   "outputs": [
    {
     "data": {
      "text/plain": [
       "583"
      ]
     },
     "execution_count": 10,
     "metadata": {},
     "output_type": "execute_result"
    }
   ],
   "source": [
    "#Remove duplicate records from the DataFrame by arbitrarily selecting the first record from a set of records with same primary key or \n",
    "#key combo.\n",
    "tkt_sample.smvDedupByKey(\"CUST_ID\", \"PNR\", \"PNR_CREATION_DT\", \"FLT_LEG_DPRT_DT\", \"SCH_LEG_ORIG_CD\", \"SCH_LEG_DEST_CD\").count()"
   ]
  },
  {
   "cell_type": "markdown",
   "metadata": {},
   "source": [
    "### **A5:** Yes"
   ]
  },
  {
   "cell_type": "markdown",
   "metadata": {},
   "source": [
    "### =========================================================================================="
   ]
  },
  {
   "cell_type": "markdown",
   "metadata": {
    "collapsed": true
   },
   "source": [
    "### **Q6:** What was the most frequent check-in source among sampled customers?"
   ]
  },
  {
   "cell_type": "code",
   "execution_count": 11,
   "metadata": {},
   "outputs": [
    {
     "data": {
      "text/plain": [
       "['FLT_LEG_DPRT_DT',\n",
       " 'FLT_NUM',\n",
       " 'CKIN_CARRIER_CD',\n",
       " 'SCH_LEG_ORIG_CD',\n",
       " 'CKIN_SEQ_NUM',\n",
       " 'CKIN_PAX_NUM',\n",
       " 'SEAT',\n",
       " 'CKIN_TM',\n",
       " 'CKIN_CLASS',\n",
       " 'CKIN_SOURCE',\n",
       " 'CUST_ID',\n",
       " 'PNR',\n",
       " 'PNR_CREATION_DT']"
      ]
     },
     "execution_count": 11,
     "metadata": {},
     "output_type": "execute_result"
    }
   ],
   "source": [
    "ckin.columns"
   ]
  },
  {
   "cell_type": "code",
   "execution_count": 12,
   "metadata": {},
   "outputs": [
    {
     "data": {
      "text/plain": [
       "[Row(CKIN_SOURCE=u'AGENT', count=586),\n",
       " Row(CKIN_SOURCE=u'WEB', count=329),\n",
       " Row(CKIN_SOURCE=u'eService', count=155)]"
      ]
     },
     "execution_count": 12,
     "metadata": {},
     "output_type": "execute_result"
    }
   ],
   "source": [
    "ckin.groupBy('CKIN_SOURCE').count().collect()"
   ]
  },
  {
   "cell_type": "code",
   "execution_count": 11,
   "metadata": {},
   "outputs": [
    {
     "name": "stdout",
     "output_type": "stream",
     "text": [
      "Histogram of CKIN_SOURCE: String sorted by Frequency\n",
      "key                      count      Pct    cumCount   cumPct\n",
      "AGENT                      586   54.77%         586   54.77%\n",
      "WEB                        329   30.75%         915   85.51%\n",
      "eService                   155   14.49%        1070  100.00%\n",
      "-------------------------------------------------\n"
     ]
    }
   ],
   "source": [
    "ckin.smvFreqHist(\"CKIN_SOURCE\")"
   ]
  },
  {
   "cell_type": "markdown",
   "metadata": {},
   "source": [
    "### **A6:** \"AGENT\" - typically means a staff checked a passenger in at the airport counter"
   ]
  },
  {
   "cell_type": "markdown",
   "metadata": {},
   "source": [
    "### ===================================================================================="
   ]
  },
  {
   "cell_type": "markdown",
   "metadata": {},
   "source": [
    "### **Q7:** At which city and which country does \"AGP\" locate?"
   ]
  },
  {
   "cell_type": "code",
   "execution_count": 12,
   "metadata": {},
   "outputs": [
    {
     "name": "stdout",
     "output_type": "stream",
     "text": [
      "+---------+------------+\n",
      "|CITY_DESC|COUNTRY_DESC|\n",
      "+---------+------------+\n",
      "|   Malaga|       Spain|\n",
      "+---------+------------+\n",
      "\n"
     ]
    }
   ],
   "source": [
    "geo.filter(col(\"LOCATION_ID\")==\"AGP\").select(\"CITY_DESC\", \"COUNTRY_DESC\").show()"
   ]
  },
  {
   "cell_type": "markdown",
   "metadata": {},
   "source": [
    "### **A7:** Malaga, Spain"
   ]
  }
 ],
 "metadata": {
  "kernelspec": {
   "display_name": "Python 2",
   "language": "python",
   "name": "python2"
  },
  "language_info": {
   "codemirror_mode": {
    "name": "ipython",
    "version": 2
   },
   "file_extension": ".py",
   "mimetype": "text/x-python",
   "name": "python",
   "nbconvert_exporter": "python",
   "pygments_lexer": "ipython2",
   "version": "2.7.13"
  }
 },
 "nbformat": 4,
 "nbformat_minor": 1
}
